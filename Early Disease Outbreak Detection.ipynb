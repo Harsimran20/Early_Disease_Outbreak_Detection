{
 "cells": [
  {
   "cell_type": "code",
   "execution_count": 2,
   "id": "9f425e98-1ffb-4eb3-b707-5f380e339751",
   "metadata": {},
   "outputs": [],
   "source": [
    "import pandas as pd\n",
    "import re\n",
    "\n",
    "# Sample data\n",
    "data = pd.DataFrame({\n",
    "    \"tweet\": [\n",
    "        \"I'm feeling really sick with a bad cough and fever\",\n",
    "        \"Enjoying the sun at the beach!\",\n",
    "        \"High fever reported in our area. Hospitals are full.\",\n",
    "        \"Caught a cold, sore throat and mild chills.\",\n",
    "        \"No health issues here, just fine!\"\n",
    "    ],\n",
    "    \"latitude\": [28.6, 19.1, 28.6, 12.9, 13.0],\n",
    "    \"longitude\": [77.2, 72.8, 77.2, 77.6, 80.3]\n",
    "})\n",
    "\n",
    "# Preprocessing function\n",
    "def preprocess(text):\n",
    "    text = re.sub(r\"http\\S+\", \"\", text.lower())  # remove URLs, lowercase\n",
    "    text = re.sub(r\"[^a-z\\s]\", \"\", text)  # remove punctuation/numbers\n",
    "    return text\n",
    "\n",
    "data[\"clean_tweet\"] = data[\"tweet\"].apply(preprocess)\n"
   ]
  },
  {
   "cell_type": "code",
   "execution_count": 4,
   "id": "59163c73-4597-44e9-a11c-9b76aea61cf0",
   "metadata": {},
   "outputs": [],
   "source": [
    "symptom_keywords = [\"fever\", \"cough\", \"sick\", \"flu\", \"cold\", \"chills\", \"hospital\", \"throat\"]\n",
    "\n",
    "def label_symptoms(text):\n",
    "    return any(symptom in text for symptom in symptom_keywords)\n",
    "\n",
    "data[\"label\"] = data[\"clean_tweet\"].apply(label_symptoms).astype(int)\n"
   ]
  },
  {
   "cell_type": "code",
   "execution_count": 6,
   "id": "631afd48-26f7-427a-8d1f-1f90fdb60fcd",
   "metadata": {},
   "outputs": [
    {
     "name": "stdout",
     "output_type": "stream",
     "text": [
      "              precision    recall  f1-score   support\n",
      "\n",
      "           0       0.00      0.00      0.00         1\n",
      "           1       0.50      1.00      0.67         1\n",
      "\n",
      "    accuracy                           0.50         2\n",
      "   macro avg       0.25      0.50      0.33         2\n",
      "weighted avg       0.25      0.50      0.33         2\n",
      "\n"
     ]
    },
    {
     "name": "stderr",
     "output_type": "stream",
     "text": [
      "C:\\Users\\ACER\\anaconda3\\Lib\\site-packages\\sklearn\\metrics\\_classification.py:1531: UndefinedMetricWarning: Precision is ill-defined and being set to 0.0 in labels with no predicted samples. Use `zero_division` parameter to control this behavior.\n",
      "  _warn_prf(average, modifier, f\"{metric.capitalize()} is\", len(result))\n",
      "C:\\Users\\ACER\\anaconda3\\Lib\\site-packages\\sklearn\\metrics\\_classification.py:1531: UndefinedMetricWarning: Precision is ill-defined and being set to 0.0 in labels with no predicted samples. Use `zero_division` parameter to control this behavior.\n",
      "  _warn_prf(average, modifier, f\"{metric.capitalize()} is\", len(result))\n",
      "C:\\Users\\ACER\\anaconda3\\Lib\\site-packages\\sklearn\\metrics\\_classification.py:1531: UndefinedMetricWarning: Precision is ill-defined and being set to 0.0 in labels with no predicted samples. Use `zero_division` parameter to control this behavior.\n",
      "  _warn_prf(average, modifier, f\"{metric.capitalize()} is\", len(result))\n"
     ]
    }
   ],
   "source": [
    "from sklearn.feature_extraction.text import TfidfVectorizer\n",
    "from sklearn.linear_model import LogisticRegression\n",
    "from sklearn.model_selection import train_test_split\n",
    "from sklearn.metrics import classification_report\n",
    "\n",
    "# Vectorize\n",
    "X = TfidfVectorizer().fit_transform(data[\"clean_tweet\"])\n",
    "y = data[\"label\"]\n",
    "\n",
    "# Train/test split\n",
    "X_train, X_test, y_train, y_test = train_test_split(X, y, stratify=y)\n",
    "\n",
    "# Train model\n",
    "clf = LogisticRegression()\n",
    "clf.fit(X_train, y_train)\n",
    "\n",
    "# Evaluate\n",
    "print(classification_report(y_test, clf.predict(X_test)))\n"
   ]
  },
  {
   "cell_type": "code",
   "execution_count": 8,
   "id": "af6b1416-41dd-4681-8d52-f572b6556143",
   "metadata": {},
   "outputs": [
    {
     "name": "stdout",
     "output_type": "stream",
     "text": [
      "Map saved as 'outbreak_map.html'\n"
     ]
    }
   ],
   "source": [
    "import folium\n",
    "\n",
    "m = folium.Map(location=[20.5, 78.9], zoom_start=5)\n",
    "\n",
    "for _, row in data.iterrows():\n",
    "    if row[\"label\"] == 1:\n",
    "        folium.CircleMarker(\n",
    "            location=[row[\"latitude\"], row[\"longitude\"]],\n",
    "            radius=6,\n",
    "            color=\"red\",\n",
    "            fill=True,\n",
    "            fill_opacity=0.7,\n",
    "            popup=row[\"tweet\"]\n",
    "        ).add_to(m)\n",
    "\n",
    "m.save(\"outbreak_map.html\")\n",
    "print(\"Map saved as 'outbreak_map.html'\")\n"
   ]
  },
  {
   "cell_type": "code",
   "execution_count": null,
   "id": "40de7eaa-3605-4cb4-9a70-dbcfec124a94",
   "metadata": {},
   "outputs": [],
   "source": []
  }
 ],
 "metadata": {
  "kernelspec": {
   "display_name": "Python [conda env:base] *",
   "language": "python",
   "name": "conda-base-py"
  },
  "language_info": {
   "codemirror_mode": {
    "name": "ipython",
    "version": 3
   },
   "file_extension": ".py",
   "mimetype": "text/x-python",
   "name": "python",
   "nbconvert_exporter": "python",
   "pygments_lexer": "ipython3",
   "version": "3.12.7"
  }
 },
 "nbformat": 4,
 "nbformat_minor": 5
}
